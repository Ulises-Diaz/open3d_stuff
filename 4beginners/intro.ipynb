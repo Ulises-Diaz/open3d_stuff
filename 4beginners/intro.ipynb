{
 "cells": [
  {
   "cell_type": "code",
   "execution_count": 11,
   "metadata": {},
   "outputs": [],
   "source": [
    "import open3d as o3d\n",
    "import numpy as np\n",
    "import os \n",
    "import sys\n",
    "\n",
    "dataset = o3d.data.EaglePointCloud()\n",
    "pcd = o3d.io.read_point_cloud(dataset.path)\n",
    "\n",
    "#For initial view\n",
    "o3d.visualization.draw_geometries([pcd],\n",
    "                                  zoom = 1.1,\n",
    "                                  front = [0.412, -0.21, -0.87],\n",
    "                                  lookat = [2.6, 2.04, 1.53],\n",
    "                                  up = [-0.009, -0.9, 0.2])\n",
    "\n"
   ]
  },
  {
   "cell_type": "markdown",
   "metadata": {},
   "source": [
    "### Voxel Downsampling\n",
    "\n",
    "\n",
    "Voxel downsampling uses regular voxel grid to create a uniformly downsampled point cloud from an input point Cloud. \n",
    "It is used as a pre-processing step. It works in this way \n",
    "\n",
    "1. Points are put into voxels\n",
    "2. Each occupied voxel generates exactly one point aby averaging all points inside"
   ]
  },
  {
   "cell_type": "code",
   "execution_count": 13,
   "metadata": {},
   "outputs": [
    {
     "name": "stdout",
     "output_type": "stream",
     "text": [
      "Downsample the point cloud with a voxel of 0.5\n"
     ]
    }
   ],
   "source": [
    "print(\"Downsample the point cloud with a voxel of 0.5\")\n",
    "downpcd = pcd.voxel_down_sample(voxel_size = 0.05)\n",
    "o3d.visualization.draw_geometries([downpcd],\n",
    "                                  zoom = 0.314,\n",
    "                                  front = [0.412, -0.21, -0.87],\n",
    "                                  lookat = [2.6, 2.04, 1.53],\n",
    "                                  up = [-0.009, -0.9, 0.2])"
   ]
  },
  {
   "cell_type": "markdown",
   "metadata": {},
   "source": [
    "##### Vertex normal estimation\n",
    "\n",
    "Basic point cloud operation is point normal estimation. "
   ]
  },
  {
   "cell_type": "code",
   "execution_count": null,
   "metadata": {},
   "outputs": [
    {
     "name": "stdout",
     "output_type": "stream",
     "text": [
      "Recompute the normal of the downsampled point cloud\n"
     ]
    },
    {
     "ename": "TypeError",
     "evalue": "estimate_normals(): incompatible function arguments. The following argument types are supported:\n    1. (self: open3d.cpu.pybind.geometry.PointCloud, search_param: open3d.cpu.pybind.geometry.KDTreeSearchParam = KDTreeSearchParamKNN with knn = 30, fast_normal_computation: bool = True) -> None\n\nInvoked with: PointCloud with 67980 points.; kwargs: search_params=KDTreeSearchParamHybrid with radius = 0.100000 and max_nn = 30",
     "output_type": "error",
     "traceback": [
      "\u001b[0;31m---------------------------------------------------------------------------\u001b[0m",
      "\u001b[0;31mTypeError\u001b[0m                                 Traceback (most recent call last)",
      "Cell \u001b[0;32mIn[16], line 2\u001b[0m\n\u001b[1;32m      1\u001b[0m \u001b[38;5;28mprint\u001b[39m(\u001b[38;5;124m\"\u001b[39m\u001b[38;5;124mRecompute the normal of the downsampled point cloud\u001b[39m\u001b[38;5;124m\"\u001b[39m)\n\u001b[0;32m----> 2\u001b[0m \u001b[43mdownpcd\u001b[49m\u001b[38;5;241;43m.\u001b[39;49m\u001b[43mestimate_normals\u001b[49m\u001b[43m(\u001b[49m\u001b[43msearch_params\u001b[49m\u001b[43m \u001b[49m\u001b[38;5;241;43m=\u001b[39;49m\u001b[43mo3d\u001b[49m\u001b[38;5;241;43m.\u001b[39;49m\u001b[43mgeometry\u001b[49m\u001b[38;5;241;43m.\u001b[39;49m\u001b[43mKDTreeSearchParamHybrid\u001b[49m\u001b[43m(\u001b[49m\u001b[43mradius\u001b[49m\u001b[43m \u001b[49m\u001b[38;5;241;43m=\u001b[39;49m\u001b[43m \u001b[49m\u001b[38;5;241;43m0.1\u001b[39;49m\u001b[43m,\u001b[49m\u001b[43m \u001b[49m\u001b[43mmax_nn\u001b[49m\u001b[43m \u001b[49m\u001b[38;5;241;43m=\u001b[39;49m\u001b[38;5;241;43m30\u001b[39;49m\u001b[43m)\u001b[49m\u001b[43m)\u001b[49m\n\u001b[1;32m      3\u001b[0m o3d\u001b[38;5;241m.\u001b[39mvisualization\u001b[38;5;241m.\u001b[39mdraw_geometries([downpcd], \n\u001b[1;32m      4\u001b[0m                                   zoom \u001b[38;5;241m=\u001b[39m \u001b[38;5;241m1.1\u001b[39m,\n\u001b[1;32m      5\u001b[0m                                   front \u001b[38;5;241m=\u001b[39m [\u001b[38;5;241m0.412\u001b[39m, \u001b[38;5;241m-\u001b[39m\u001b[38;5;241m0.21\u001b[39m, \u001b[38;5;241m-\u001b[39m\u001b[38;5;241m0.87\u001b[39m],\n\u001b[1;32m      6\u001b[0m                                   lookat \u001b[38;5;241m=\u001b[39m [\u001b[38;5;241m2.6\u001b[39m, \u001b[38;5;241m2.04\u001b[39m, \u001b[38;5;241m1.53\u001b[39m],\n\u001b[1;32m      7\u001b[0m                                   up \u001b[38;5;241m=\u001b[39m [\u001b[38;5;241m-\u001b[39m\u001b[38;5;241m0.009\u001b[39m, \u001b[38;5;241m-\u001b[39m\u001b[38;5;241m0.9\u001b[39m, \u001b[38;5;241m0.2\u001b[39m])\n",
      "\u001b[0;31mTypeError\u001b[0m: estimate_normals(): incompatible function arguments. The following argument types are supported:\n    1. (self: open3d.cpu.pybind.geometry.PointCloud, search_param: open3d.cpu.pybind.geometry.KDTreeSearchParam = KDTreeSearchParamKNN with knn = 30, fast_normal_computation: bool = True) -> None\n\nInvoked with: PointCloud with 67980 points.; kwargs: search_params=KDTreeSearchParamHybrid with radius = 0.100000 and max_nn = 30"
     ]
    }
   ],
   "source": [
    "print(\"Recompute the normal of the downsampled point cloud\")\n",
    "downpcd.estimate_normals(search_param =o3d.geometry.KDTreeSearchParamHybrid(radius = 0.1, max_nn =30))\n",
    "o3d.visualization.draw_geometries([downpcd], \n",
    "                                  zoom = 1.1,\n",
    "                                  front = [0.412, -0.21, -0.87],\n",
    "                                  lookat = [2.6, 2.04, 1.53],\n",
    "                                  up = [-0.009, -0.9, 0.2])"
   ]
  }
 ],
 "metadata": {
  "kernelspec": {
   "display_name": "usr",
   "language": "python",
   "name": "python3"
  },
  "language_info": {
   "codemirror_mode": {
    "name": "ipython",
    "version": 3
   },
   "file_extension": ".py",
   "mimetype": "text/x-python",
   "name": "python",
   "nbconvert_exporter": "python",
   "pygments_lexer": "ipython3",
   "version": "3.10.12"
  }
 },
 "nbformat": 4,
 "nbformat_minor": 2
}
